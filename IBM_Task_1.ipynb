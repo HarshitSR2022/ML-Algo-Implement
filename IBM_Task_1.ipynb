{
  "nbformat": 4,
  "nbformat_minor": 0,
  "metadata": {
    "colab": {
      "provenance": [],
      "authorship_tag": "ABX9TyPvmsdjevjh8MAdeV4zllrr",
      "include_colab_link": true
    },
    "kernelspec": {
      "name": "python3",
      "display_name": "Python 3"
    },
    "language_info": {
      "name": "python"
    }
  },
  "cells": [
    {
      "cell_type": "markdown",
      "metadata": {
        "id": "view-in-github",
        "colab_type": "text"
      },
      "source": [
        "<a href=\"https://colab.research.google.com/github/HarshitSR2022/ML-Algo-Implement/blob/main/IBM_Task_1.ipynb\" target=\"_parent\"><img src=\"https://colab.research.google.com/assets/colab-badge.svg\" alt=\"Open In Colab\"/></a>"
      ]
    },
    {
      "cell_type": "code",
      "execution_count": 1,
      "metadata": {
        "id": "1Kp-I4kTF8yJ"
      },
      "outputs": [],
      "source": [
        "import numpy as np\n",
        "import pandas as pd\n"
      ]
    },
    {
      "cell_type": "code",
      "source": [
        "hospitalization = pd.read_csv('Hospitalisation details.csv')\n",
        "medical_exams=pd.read_csv('Medical Examinations.csv')\n",
        "names=pd.read_excel('Names.xlsx')"
      ],
      "metadata": {
        "id": "If65VMnsHNvG"
      },
      "execution_count": 25,
      "outputs": []
    },
    {
      "cell_type": "code",
      "source": [
        "merged_data=pd.merge(hospitalization,medical_exams,on='Customer ID')\n",
        "merged_data=pd.merge(merged_data,names,on='Customer ID')"
      ],
      "metadata": {
        "id": "hp-uIyo4HwlQ"
      },
      "execution_count": 26,
      "outputs": []
    },
    {
      "cell_type": "code",
      "source": [
        "print(merged_data)"
      ],
      "metadata": {
        "colab": {
          "base_uri": "https://localhost:8080/"
        },
        "id": "Y5AC3C1BIkME",
        "outputId": "00ed8b35-39a1-4f9b-d49e-c4a8b873081c"
      },
      "execution_count": 5,
      "outputs": [
        {
          "output_type": "stream",
          "name": "stdout",
          "text": [
            "     Customer ID  year month  date  children   charges Hospital tier  \\\n",
            "0         Id2335  1992   Jul     9         0    563.84      tier - 2   \n",
            "1         Id2334  1992   Nov    30         0    570.62      tier - 2   \n",
            "2         Id2333  1993   Jun    30         0    600.00      tier - 2   \n",
            "3         Id2332  1992   Sep    13         0    604.54      tier - 3   \n",
            "4         Id2331  1998   Jul    27         0    637.26      tier - 3   \n",
            "...          ...   ...   ...   ...       ...       ...           ...   \n",
            "2330         Id5  1989   Jun    19         0  55135.40      tier - 1   \n",
            "2331         Id4  1991   Jun     6         1  58571.07      tier - 1   \n",
            "2332         Id3  1970     ?    11         3  60021.40      tier - 1   \n",
            "2333         Id2  1977   Jun     8         0  62592.87      tier - 2   \n",
            "2334         Id1  1968   Oct    12         0  63770.43      tier - 1   \n",
            "\n",
            "     City tier State ID     BMI  HBA1C Heart Issues Any Transplants  \\\n",
            "0     tier - 3    R1013  17.580   4.51           No              No   \n",
            "1     tier - 1    R1013  17.600   4.39           No              No   \n",
            "2     tier - 1    R1013  16.470   6.35           No              No   \n",
            "3     tier - 3    R1013  17.700   6.28           No              No   \n",
            "4     tier - 3    R1013  22.340   5.57           No              No   \n",
            "...        ...      ...     ...    ...          ...             ...   \n",
            "2330  tier - 2    R1012  35.530   5.45           No              No   \n",
            "2331  tier - 3    R1024  38.095   6.05           No              No   \n",
            "2332  tier - 1    R1012  34.485  11.87          yes              No   \n",
            "2333  tier - 3    R1013  30.360   5.77           No              No   \n",
            "2334  tier - 3    R1013  47.410   7.47           No              No   \n",
            "\n",
            "     Cancer history NumberOfMajorSurgeries smoker  \\\n",
            "0                No                      1     No   \n",
            "1                No                      1     No   \n",
            "2               Yes                      1     No   \n",
            "3                No                      1     No   \n",
            "4                No                      1     No   \n",
            "...             ...                    ...    ...   \n",
            "2330             No       No major surgery    yes   \n",
            "2331             No       No major surgery    yes   \n",
            "2332             No                      2    yes   \n",
            "2333             No       No major surgery    yes   \n",
            "2334             No       No major surgery    yes   \n",
            "\n",
            "                                    name  \n",
            "0                   German, Mr.  Aaron K  \n",
            "1                 Rosendahl, Mr.  Evan P  \n",
            "2                     Albano, Ms.  Julie  \n",
            "3     Riveros Gonzalez, Mr.  Juan D. Sr.  \n",
            "4                  Brietzke, Mr.  Jordan  \n",
            "...                                  ...  \n",
            "2330                Kadala, Ms.  Kristyn  \n",
            "2331                Osborne, Ms.  Kelsey  \n",
            "2332                       Lu, Mr.  Phil  \n",
            "2333              Lehner, Mr.  Matthew D  \n",
            "2334                   Hawks, Ms.  Kelly  \n",
            "\n",
            "[2335 rows x 17 columns]\n"
          ]
        }
      ]
    },
    {
      "cell_type": "code",
      "source": [
        "print(merged_data.isnull().sum())"
      ],
      "metadata": {
        "colab": {
          "base_uri": "https://localhost:8080/"
        },
        "id": "3w82_gx6Ir2Z",
        "outputId": "768abc75-57ee-4cea-df6c-e5017bcbdd71"
      },
      "execution_count": 6,
      "outputs": [
        {
          "output_type": "stream",
          "name": "stdout",
          "text": [
            "Customer ID               0\n",
            "year                      0\n",
            "month                     0\n",
            "date                      0\n",
            "children                  0\n",
            "charges                   0\n",
            "Hospital tier             0\n",
            "City tier                 0\n",
            "State ID                  0\n",
            "BMI                       0\n",
            "HBA1C                     0\n",
            "Heart Issues              0\n",
            "Any Transplants           0\n",
            "Cancer history            0\n",
            "NumberOfMajorSurgeries    0\n",
            "smoker                    0\n",
            "name                      0\n",
            "dtype: int64\n"
          ]
        }
      ]
    },
    {
      "cell_type": "code",
      "source": [
        "merged_data.fillna(merged_data.mean(numeric_only=True),inplace=True)"
      ],
      "metadata": {
        "id": "qfWboLGWKtG1"
      },
      "execution_count": 27,
      "outputs": []
    },
    {
      "cell_type": "code",
      "source": [
        "print(merged_data)"
      ],
      "metadata": {
        "colab": {
          "base_uri": "https://localhost:8080/"
        },
        "id": "pE1wdJpqLbxI",
        "outputId": "209bc732-58e1-4d25-bb42-97b46e78fd49"
      },
      "execution_count": 8,
      "outputs": [
        {
          "output_type": "stream",
          "name": "stdout",
          "text": [
            "     Customer ID  year month  date  children   charges Hospital tier  \\\n",
            "0         Id2335  1992   Jul     9         0    563.84      tier - 2   \n",
            "1         Id2334  1992   Nov    30         0    570.62      tier - 2   \n",
            "2         Id2333  1993   Jun    30         0    600.00      tier - 2   \n",
            "3         Id2332  1992   Sep    13         0    604.54      tier - 3   \n",
            "4         Id2331  1998   Jul    27         0    637.26      tier - 3   \n",
            "...          ...   ...   ...   ...       ...       ...           ...   \n",
            "2330         Id5  1989   Jun    19         0  55135.40      tier - 1   \n",
            "2331         Id4  1991   Jun     6         1  58571.07      tier - 1   \n",
            "2332         Id3  1970     ?    11         3  60021.40      tier - 1   \n",
            "2333         Id2  1977   Jun     8         0  62592.87      tier - 2   \n",
            "2334         Id1  1968   Oct    12         0  63770.43      tier - 1   \n",
            "\n",
            "     City tier State ID     BMI  HBA1C Heart Issues Any Transplants  \\\n",
            "0     tier - 3    R1013  17.580   4.51           No              No   \n",
            "1     tier - 1    R1013  17.600   4.39           No              No   \n",
            "2     tier - 1    R1013  16.470   6.35           No              No   \n",
            "3     tier - 3    R1013  17.700   6.28           No              No   \n",
            "4     tier - 3    R1013  22.340   5.57           No              No   \n",
            "...        ...      ...     ...    ...          ...             ...   \n",
            "2330  tier - 2    R1012  35.530   5.45           No              No   \n",
            "2331  tier - 3    R1024  38.095   6.05           No              No   \n",
            "2332  tier - 1    R1012  34.485  11.87          yes              No   \n",
            "2333  tier - 3    R1013  30.360   5.77           No              No   \n",
            "2334  tier - 3    R1013  47.410   7.47           No              No   \n",
            "\n",
            "     Cancer history NumberOfMajorSurgeries smoker  \\\n",
            "0                No                      1     No   \n",
            "1                No                      1     No   \n",
            "2               Yes                      1     No   \n",
            "3                No                      1     No   \n",
            "4                No                      1     No   \n",
            "...             ...                    ...    ...   \n",
            "2330             No       No major surgery    yes   \n",
            "2331             No       No major surgery    yes   \n",
            "2332             No                      2    yes   \n",
            "2333             No       No major surgery    yes   \n",
            "2334             No       No major surgery    yes   \n",
            "\n",
            "                                    name  \n",
            "0                   German, Mr.  Aaron K  \n",
            "1                 Rosendahl, Mr.  Evan P  \n",
            "2                     Albano, Ms.  Julie  \n",
            "3     Riveros Gonzalez, Mr.  Juan D. Sr.  \n",
            "4                  Brietzke, Mr.  Jordan  \n",
            "...                                  ...  \n",
            "2330                Kadala, Ms.  Kristyn  \n",
            "2331                Osborne, Ms.  Kelsey  \n",
            "2332                       Lu, Mr.  Phil  \n",
            "2333              Lehner, Mr.  Matthew D  \n",
            "2334                   Hawks, Ms.  Kelly  \n",
            "\n",
            "[2335 rows x 17 columns]\n"
          ]
        }
      ]
    },
    {
      "cell_type": "code",
      "source": [
        "trivial_values = ['?']\n"
      ],
      "metadata": {
        "id": "XtEa9znTOR0F"
      },
      "execution_count": 28,
      "outputs": []
    },
    {
      "cell_type": "code",
      "source": [
        "trivial_rows = merged_data.isin(trivial_values).sum(axis=1) > 0\n",
        "print(trivial_rows.sum())\n",
        "print(len(merged_data))\n",
        "percentage_trivial = (trivial_rows.sum() / len(merged_data)) * 100\n",
        "print(f\"Percentage of trivial rows: {percentage_trivial:.2f}%\")\n"
      ],
      "metadata": {
        "colab": {
          "base_uri": "https://localhost:8080/"
        },
        "id": "12msWBC2ObsN",
        "outputId": "ffacdb96-5f8e-4bfa-ca43-66329059e438"
      },
      "execution_count": 34,
      "outputs": [
        {
          "output_type": "stream",
          "name": "stdout",
          "text": [
            "10\n",
            "2335\n",
            "Percentage of trivial rows: 0.43%\n"
          ]
        }
      ]
    },
    {
      "cell_type": "code",
      "source": [
        "merged_data = merged_data[~trivial_rows]"
      ],
      "metadata": {
        "id": "LcsyQT-9SBMC"
      },
      "execution_count": null,
      "outputs": []
    }
  ]
}